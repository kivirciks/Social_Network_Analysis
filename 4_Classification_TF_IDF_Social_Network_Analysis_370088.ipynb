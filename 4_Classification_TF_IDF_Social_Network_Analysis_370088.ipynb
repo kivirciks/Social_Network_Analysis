{
  "nbformat": 4,
  "nbformat_minor": 0,
  "metadata": {
    "colab": {
      "provenance": []
    },
    "kernelspec": {
      "name": "python3",
      "display_name": "Python 3"
    },
    "language_info": {
      "name": "python"
    }
  },
  "cells": [
    {
      "cell_type": "markdown",
      "source": [
        "<H1> Разработка инструмента для прогнозирования популярности постов в социальных сетях с применением методов машинного обучения </H1>"
      ],
      "metadata": {
        "id": "1Fmanvpoi16b"
      }
    },
    {
      "cell_type": "markdown",
      "source": [
        "Проект содержит следующие этапы:\n",
        "* Сбор БД и визуализация данных\n",
        "* Токенизация, лемматизация и стемминг данных\n",
        "* Векторизация\n",
        "* **Классификация**\n",
        "* Подбор гиперпараметров и демонстрация итоговых результатов"
      ],
      "metadata": {
        "id": "Xb8PvgG5i2yy"
      }
    },
    {
      "cell_type": "markdown",
      "source": [
        "Для корректной работы кода необходимо загрузить файлы \"ITMO_2.csv\",  \"ITMO_2_vectorized_tf_idf\n",
        ".npz\", полученные в рамках предыдущего шага проекта."
      ],
      "metadata": {
        "id": "BAoxAQzTi9BN"
      }
    },
    {
      "cell_type": "markdown",
      "source": [
        "# **Разделение на обучающую и тестовую выборки**"
      ],
      "metadata": {
        "id": "VNm5PdTflBYB"
      }
    },
    {
      "cell_type": "code",
      "execution_count": null,
      "metadata": {
        "colab": {
          "base_uri": "https://localhost:8080/"
        },
        "id": "kCOsil_biwgj",
        "outputId": "0c0a25a6-61cb-4d7a-b750-c8e098723340"
      },
      "outputs": [
        {
          "output_type": "stream",
          "name": "stdout",
          "text": [
            "Переменные в файле:\n",
            "X\n",
            "feature_names\n"
          ]
        }
      ],
      "source": [
        "import numpy as np\n",
        "\n",
        "# Загрузка данных из файла .npz\n",
        "data = np.load('ITMO_2_vectorized_tf_idf.npz', allow_pickle=True)\n",
        "\n",
        "# Вывод списка переменных в файле\n",
        "print(\"Переменные в файле:\")\n",
        "for variable_name in data.files:\n",
        "    print(variable_name)"
      ]
    },
    {
      "cell_type": "code",
      "source": [
        "import numpy as np\n",
        "import pandas as pd\n",
        "from sklearn.model_selection import train_test_split\n",
        "\n",
        "# Загрузка данных из файла .npz\n",
        "data_npz = np.load('ITMO_2_vectorized_tf_idf.npz', allow_pickle=True)\n",
        "\n",
        "# Извлечение переменной 'data' из файла .npz\n",
        "X_data = data_npz['X']\n",
        "\n",
        "# Загрузка целевой переменной из файла ITMO_2.csv\n",
        "y_data = pd.read_csv('ITMO_2.csv')['popular']\n",
        "\n",
        "# Разделение на обучающую и тестовую выборки\n",
        "X_train, X_test, y_train, y_test = train_test_split(X_data, y_data, test_size=0.2, random_state=42)"
      ],
      "metadata": {
        "id": "4Qi3p5Zgkxip"
      },
      "execution_count": null,
      "outputs": []
    },
    {
      "cell_type": "code",
      "source": [
        "# размер обучающей и тестовой выборки\n",
        "print(len(X_train))\n",
        "print(len(X_test))"
      ],
      "metadata": {
        "colab": {
          "base_uri": "https://localhost:8080/"
        },
        "id": "z26cI4MIkynD",
        "outputId": "f94e2229-4049-4fa2-80f6-684df9e171b2"
      },
      "execution_count": null,
      "outputs": [
        {
          "output_type": "stream",
          "name": "stdout",
          "text": [
            "12501\n",
            "3126\n"
          ]
        }
      ]
    },
    {
      "cell_type": "code",
      "source": [
        "# метрики качества\n",
        "from sklearn.metrics import accuracy_score\n",
        "from sklearn.metrics import precision_score\n",
        "from sklearn.metrics import recall_score\n",
        "from sklearn.metrics import f1_score\n",
        "from sklearn.metrics import classification_report"
      ],
      "metadata": {
        "id": "h3qp3euuk9zI"
      },
      "execution_count": null,
      "outputs": []
    },
    {
      "cell_type": "markdown",
      "source": [
        "# **Наивный Байес**\n",
        "Наивный Байес рассматривает классификацию как вероятностную задачу - он вычисляет вероятность принадлежности объекта к каждому классу и выбирает тот класс, для которого вероятность максимальна."
      ],
      "metadata": {
        "id": "cPZYroQ8lMn5"
      }
    },
    {
      "cell_type": "code",
      "source": [
        "from sklearn.naive_bayes import MultinomialNB"
      ],
      "metadata": {
        "id": "8pQavMJQlOzQ"
      },
      "execution_count": null,
      "outputs": []
    },
    {
      "cell_type": "code",
      "source": [
        "clf_nb = MultinomialNB(\n",
        "    # alpha (default=1.0) - параметр регуляризации\n",
        "    # Более высокие значения делают модель более устойчивой к переобучению\n",
        "        alpha = 1.1\n",
        ")"
      ],
      "metadata": {
        "id": "RTcOgT4mlXQu"
      },
      "execution_count": null,
      "outputs": []
    },
    {
      "cell_type": "code",
      "source": [
        "clf_nb = clf_nb.fit(X_train, y_train)\n",
        "y_predict_nb = clf_nb.predict(X_test)"
      ],
      "metadata": {
        "id": "lyi2CELClXtn"
      },
      "execution_count": null,
      "outputs": []
    },
    {
      "cell_type": "code",
      "source": [
        "print('Accuracy: ', accuracy_score(y_test, y_predict_nb))\n",
        "print('Precision: ', precision_score(y_test, y_predict_nb, average='macro'))\n",
        "print('Recall: ', recall_score(y_test, y_predict_nb, average='macro'))\n",
        "print('F1: ', f1_score(y_test, y_predict_nb, average='macro'))"
      ],
      "metadata": {
        "colab": {
          "base_uri": "https://localhost:8080/"
        },
        "id": "eCxJZLzIlZUP",
        "outputId": "ef5d126c-6d83-4d88-ef12-01274b17454e"
      },
      "execution_count": null,
      "outputs": [
        {
          "output_type": "stream",
          "name": "stdout",
          "text": [
            "Accuracy:  0.8195777351247601\n",
            "Precision:  0.5766890810118476\n",
            "Recall:  0.5004979316949983\n",
            "F1:  0.4521712867386142\n"
          ]
        }
      ]
    },
    {
      "cell_type": "markdown",
      "source": [
        "# **Случайный лес**\n",
        "Случайный лес использует ансамблевое обучение, сочетающее в себе множество независимыо обученных решающих деревьев.\n",
        "\n"
      ],
      "metadata": {
        "id": "qRhUeEJelx93"
      }
    },
    {
      "cell_type": "code",
      "source": [
        "from sklearn.ensemble import RandomForestClassifier"
      ],
      "metadata": {
        "id": "PMMVIw_QlxfR"
      },
      "execution_count": null,
      "outputs": []
    },
    {
      "cell_type": "code",
      "source": [
        "clf_rf =  RandomForestClassifier(\n",
        "        n_estimators = 200, # количество деревьев в ансамбле (default=100)\n",
        "        # какая функция используется для измерения качества разбиения деревьев\n",
        "        criterion = 'gini', # gini - Индекс Джини, entropy - Энтропия, log_loss - логарифмическая потеря, default gini\n",
        "        max_depth = 200, # максимальная глубина дерева, int, default=None\n",
        "        # уменьшение дисбаланса классов\n",
        "        # dict - пользовательские настройки\n",
        "        # balanced - автоматическая балансировка классов\n",
        "        # None - по умолчанию классы имеют одинаковые веса\n",
        "        class_weight = 'balanced', # default=None\n",
        "        random_state = 42 # контроль воспроизводимости результатов при использовании случайности\n",
        ")"
      ],
      "metadata": {
        "id": "jdxrFBBDl0Q2"
      },
      "execution_count": null,
      "outputs": []
    },
    {
      "cell_type": "code",
      "source": [
        "clf_rf = clf_rf.fit(X_train, y_train)\n",
        "y_predict_rf = clf_rf.predict(X_test)"
      ],
      "metadata": {
        "id": "gUxnwP0Dl1ob"
      },
      "execution_count": null,
      "outputs": []
    },
    {
      "cell_type": "code",
      "source": [
        "print('Accuracy: ', accuracy_score(y_test, y_predict_rf))\n",
        "print('Precision: ', precision_score(y_test, y_predict_rf, average='macro'))\n",
        "print('Recall: ', recall_score(y_test, y_predict_rf, average='macro'))\n",
        "print('F1: ', f1_score(y_test, y_predict_rf, average='macro'))"
      ],
      "metadata": {
        "colab": {
          "base_uri": "https://localhost:8080/"
        },
        "id": "fJIh7tiwl3E9",
        "outputId": "f0b540da-7b7c-4f89-fba9-4cf4b175ddbe"
      },
      "execution_count": null,
      "outputs": [
        {
          "output_type": "stream",
          "name": "stdout",
          "text": [
            "Accuracy:  0.8422904670505438\n",
            "Precision:  0.8157129292091418\n",
            "Recall:  0.5801853678076244\n",
            "F1:  0.5958671997000048\n"
          ]
        }
      ]
    },
    {
      "cell_type": "markdown",
      "source": [
        "# **Деревья решений**\n",
        "Решающее дерево строится рекурсивно, последовательно разделяя данные на подмножества на основе наиболее информативных признаков. Каждый внутренний узел дерева содержит условие для разделения данных, а листовые узлы представляют собой предсказания классов."
      ],
      "metadata": {
        "id": "BUTzn-jdl4dn"
      }
    },
    {
      "cell_type": "code",
      "source": [
        "from sklearn.tree import DecisionTreeClassifier"
      ],
      "metadata": {
        "id": "zMGiR6r-l6yP"
      },
      "execution_count": null,
      "outputs": []
    },
    {
      "cell_type": "code",
      "source": [
        "clf_dt =  DecisionTreeClassifier(\n",
        "        # определяет метрику, по которой будет происходить разделение\n",
        "        # 'gini' - индекс Джини (по умолчанию)\n",
        "        # 'entropy' - энтропия\n",
        "        # 'log_loss' - логарифмические потери\n",
        "        criterion = 'entropy',\n",
        "        # стратегия выбора признака\n",
        "        # 'best' - лучшией признак значения (по умолчанию)\n",
        "        # 'random' - выбирает случайный признак\n",
        "        splitter = 'best',\n",
        "        max_depth = 200, # максимальная глубина дерева, int, default=None\n",
        "        # учет дисбаланса классов при обучении модели\n",
        "        class_weight = 'balanced', #dict or ‘balanced’, default=None\n",
        "        random_state = 42 # задает начальное значение генератора для воспроизводимости результатов\n",
        ")"
      ],
      "metadata": {
        "id": "lnnPD4sYl8i_"
      },
      "execution_count": null,
      "outputs": []
    },
    {
      "cell_type": "code",
      "source": [
        "clf_dt = clf_dt.fit(X_train, y_train)\n",
        "y_predict_dt = clf_dt.predict(X_test)"
      ],
      "metadata": {
        "id": "_5fQSJQtl9sv"
      },
      "execution_count": null,
      "outputs": []
    },
    {
      "cell_type": "code",
      "source": [
        "print('Accuracy: ', accuracy_score(y_test, y_predict_dt))\n",
        "print('Precision: ', precision_score(y_test, y_predict_dt, average='macro'))\n",
        "print('Recall: ', recall_score(y_test, y_predict_dt, average='macro'))\n",
        "print('F1: ', f1_score(y_test, y_predict_dt, average='macro'))"
      ],
      "metadata": {
        "colab": {
          "base_uri": "https://localhost:8080/"
        },
        "id": "Qp0ip63ml_CZ",
        "outputId": "f6993d6f-6e4c-4269-fa21-88417d646874"
      },
      "execution_count": null,
      "outputs": [
        {
          "output_type": "stream",
          "name": "stdout",
          "text": [
            "Accuracy:  0.77191298784389\n",
            "Precision:  0.6304078219445991\n",
            "Recall:  0.6467633746809529\n",
            "F1:  0.6371655441422883\n"
          ]
        }
      ]
    },
    {
      "cell_type": "markdown",
      "source": [
        "# **K-ближайших соседей**"
      ],
      "metadata": {
        "id": "QhyN9ZVmmRFv"
      }
    },
    {
      "cell_type": "markdown",
      "source": [
        "k-ближайших соседей строится на том, что для классификации нового объекта используются его ближайшие соседи в признаковом пространстве (расстояние до них)."
      ],
      "metadata": {
        "id": "9L6FN1NinAlJ"
      }
    },
    {
      "cell_type": "code",
      "source": [
        "from sklearn.neighbors import KNeighborsClassifier"
      ],
      "metadata": {
        "id": "YLLTmgKNl7P3"
      },
      "execution_count": null,
      "outputs": []
    },
    {
      "cell_type": "code",
      "source": [
        "clf_KNN = KNeighborsClassifier(\n",
        "        n_neighbors = 3, # int, default=5, кол-во ближайших соседей\n",
        "        # способ взвешивания вклада соседей в определение класса\n",
        "        # 'uniform' - все соседи имеют одинаковый вес\n",
        "        # 'distance' - вес соседа прямо пропорционален его расстоянию до объекта\n",
        "        weights = 'distance', # default=’uniform’\n",
        "        # метрика расстояния, используемая для поиска\n",
        "        # 'euclidean' - Евклидово расстояние\n",
        "        # 'manhattan' - Манхэттенское расстояние\n",
        "        # 'chebyshev' - расстояние Чебышева\n",
        "        # 'cosine' - косинусное сходство\n",
        "        # 'minkowski' - расстояние Минковского\n",
        "        metric = 'euclidean', # default=’minkowski’\n",
        ")"
      ],
      "metadata": {
        "id": "4rda37C-l7zz"
      },
      "execution_count": null,
      "outputs": []
    },
    {
      "cell_type": "code",
      "source": [
        "clf_KNN = clf_KNN.fit(X_train, y_train)\n",
        "y_predict_KNN = clf_KNN.predict(X_test)"
      ],
      "metadata": {
        "id": "0o0pJI5vl-U0"
      },
      "execution_count": null,
      "outputs": []
    },
    {
      "cell_type": "code",
      "source": [
        "print('Accuracy: ', accuracy_score(y_test, y_predict_KNN))\n",
        "print('Precision: ', precision_score(y_test, y_predict_KNN, average='macro'))\n",
        "print('Recall: ', recall_score(y_test, y_predict_KNN, average='macro'))\n",
        "print('F1: ', f1_score(y_test, y_predict_KNN, average='macro'))"
      ],
      "metadata": {
        "colab": {
          "base_uri": "https://localhost:8080/"
        },
        "id": "gKKU5uhcmAgh",
        "outputId": "65672425-6be7-4695-f515-00801b7d82f2"
      },
      "execution_count": null,
      "outputs": [
        {
          "output_type": "stream",
          "name": "stdout",
          "text": [
            "Accuracy:  0.8224568138195777\n",
            "Precision:  0.7526358950328023\n",
            "Recall:  0.5119559048046077\n",
            "F1:  0.4766733178591305\n"
          ]
        }
      ]
    },
    {
      "cell_type": "markdown",
      "source": [
        "# **Метод опорных векторов**"
      ],
      "metadata": {
        "id": "t0NfJrqHmNdI"
      }
    },
    {
      "cell_type": "markdown",
      "source": [
        "Основная идея метода опорных векторов (Support Vector Machines, SVM) заключается в поиске оптимальной гиперплоскости, которая максимально разделяет классы в многомерном пространстве признаков."
      ],
      "metadata": {
        "id": "V2AfB0YRncxe"
      }
    },
    {
      "cell_type": "code",
      "source": [
        "from sklearn.svm import LinearSVC"
      ],
      "metadata": {
        "id": "rJJyfH-hmFcm"
      },
      "execution_count": null,
      "outputs": []
    },
    {
      "cell_type": "code",
      "source": [
        "clf_lsvc = LinearSVC(\n",
        "        # тип регуляризации\n",
        "        # l1 - сумма абсолютных значений весов\n",
        "        # l2 - сумма квадратов весов\n",
        "        penalty = 'l2', # default=’l2’\n",
        "        # коэффициент регуляризации; чем меньше, тем больше регуляризация\n",
        "        C = 0.2, #float, default=1.0\n",
        "        # способ учета дисбаланса классов\n",
        "        class_weight = 'balanced', # default=None\n",
        "        # начальное состояние генератора для воспроизводимости результата\n",
        "        random_state = 42,\n",
        "        # максимальное число итераций оптимизации\n",
        "        max_iter = 2000 # int, default=1000\n",
        ")"
      ],
      "metadata": {
        "id": "Y2_sCHf0mKo4"
      },
      "execution_count": null,
      "outputs": []
    },
    {
      "cell_type": "code",
      "source": [
        "clf_lsvc = clf_lsvc.fit(X_train, y_train)\n",
        "y_predict_lsvc = clf_lsvc.predict(X_test)"
      ],
      "metadata": {
        "colab": {
          "base_uri": "https://localhost:8080/"
        },
        "id": "7TG8GRTEmMFU",
        "outputId": "26530c07-dd38-48fc-b761-cc56ebe93196"
      },
      "execution_count": null,
      "outputs": [
        {
          "output_type": "stream",
          "name": "stderr",
          "text": [
            "/usr/local/lib/python3.10/dist-packages/sklearn/svm/_classes.py:32: FutureWarning: The default value of `dual` will change from `True` to `'auto'` in 1.5. Set the value of `dual` explicitly to suppress the warning.\n",
            "  warnings.warn(\n"
          ]
        }
      ]
    },
    {
      "cell_type": "code",
      "source": [
        "print('Accuracy: ', accuracy_score(y_test, y_predict_lsvc))\n",
        "print('Precision: ', precision_score(y_test, y_predict_lsvc, average='macro'))\n",
        "print('Recall: ', recall_score(y_test, y_predict_lsvc, average='macro'))\n",
        "print('F1: ', f1_score(y_test, y_predict_lsvc, average='macro'))"
      ],
      "metadata": {
        "colab": {
          "base_uri": "https://localhost:8080/"
        },
        "id": "55O12yh9mmyN",
        "outputId": "6ccdebdf-2615-46ef-8c15-540aa13277b6"
      },
      "execution_count": null,
      "outputs": [
        {
          "output_type": "stream",
          "name": "stdout",
          "text": [
            "Accuracy:  0.8096609085092771\n",
            "Precision:  0.7013151435289254\n",
            "Recall:  0.759182283195273\n",
            "F1:  0.7205847204547752\n"
          ]
        }
      ]
    },
    {
      "cell_type": "markdown",
      "source": [
        "# **Логистическая регрессия**"
      ],
      "metadata": {
        "id": "cLr8wHzZmxiE"
      }
    },
    {
      "cell_type": "markdown",
      "source": [
        "Основная идея логистической регрессии заключается в моделировании вероятности принадлежности объекта к определенному классу с использованием сигмоидальной функции активации."
      ],
      "metadata": {
        "id": "ARAP69V4n1Jl"
      }
    },
    {
      "cell_type": "code",
      "source": [
        "from sklearn.linear_model import LogisticRegression"
      ],
      "metadata": {
        "id": "9VseaeaDms-i"
      },
      "execution_count": null,
      "outputs": []
    },
    {
      "cell_type": "code",
      "source": [
        "clf_lr = LogisticRegression(\n",
        "        # тип регуляризации\n",
        "        # l1 - сумма абсолютных значений весов\n",
        "        # l2 - сумма квадратов весов\n",
        "        penalty = 'l2', # default=’l2’\n",
        "        # коэффициент регуляризации; чем меньше, тем больше регуляризация\n",
        "        C = 0.2, # float, default=1.0\n",
        "        # способ учета дисбаланса классов\n",
        "        class_weight = 'balanced', # default=None\n",
        "        # начальное состояние генератора для воспроизводимости результата\n",
        "        random_state = 42,\n",
        "        # максимальное число итераций оптимизации\n",
        "        max_iter = 100, # int, default=100\n",
        "        # кол-во используемых ядер процессора\n",
        "        n_jobs = -1, # int, default=None\n",
        ")"
      ],
      "metadata": {
        "id": "BEOjR5-jm1c8"
      },
      "execution_count": null,
      "outputs": []
    },
    {
      "cell_type": "code",
      "source": [
        "clf_lr = clf_lr.fit(X_train, y_train)\n",
        "y_predict_lr = clf_lr.predict(X_test)"
      ],
      "metadata": {
        "id": "hlZU_FHBm4jK"
      },
      "execution_count": null,
      "outputs": []
    },
    {
      "cell_type": "code",
      "source": [
        "print('Accuracy: ', accuracy_score(y_test, y_predict_lr))\n",
        "print('Precision: ', precision_score(y_test, y_predict_lr, average='macro'))\n",
        "print('Recall: ', recall_score(y_test, y_predict_lr, average='macro'))\n",
        "print('F1: ', f1_score(y_test, y_predict_lr, average='macro'))"
      ],
      "metadata": {
        "colab": {
          "base_uri": "https://localhost:8080/"
        },
        "id": "q757GXmqm8i4",
        "outputId": "60812a9c-ec57-4284-8044-bd8d52e42e0b"
      },
      "execution_count": null,
      "outputs": [
        {
          "output_type": "stream",
          "name": "stdout",
          "text": [
            "Accuracy:  0.7680742162507997\n",
            "Precision:  0.672508882567319\n",
            "Recall:  0.7511467675327744\n",
            "F1:  0.6878155712995018\n"
          ]
        }
      ]
    },
    {
      "cell_type": "markdown",
      "source": [
        "| Модель | Accuracy | Precision | Recall | F1 |\n",
        "|--------|----------|-----------|--------|----|\n",
        "| Наивный Байес | 0.8195777351247601 | 0.5766890810118476 | 0.5004979316949983 | 0.4521712867386142 |\n",
        "| **Случайный лес** | 0.8422904670505438 | 0.8157129292091418 | 0.5801853678076244 | 0.5958671997000048 |\n",
        "| Деревья решений | 0.77191298784389 | 0.6304078219445991 | 0.6467633746809529 | 0.6371655441422883 |\n",
        "| K-ближайших соседей | 0.8224568138195777 | 0.7526358950328023 | 0.5119559048046077 | 0.4766733178591305 |\n",
        "| Метод опорных векторов | 0.8096609085092771 | 0.7013151435289254 | 0.759182283195273 | 0.7205847204547752 |\n",
        "| Логистическая регрессия | 0.7680742162507997 | 0.672508882567319 | 0.7511467675327744 | 0.6878155712995018 |"
      ],
      "metadata": {
        "id": "XgVFY0nvs1s_"
      }
    },
    {
      "cell_type": "markdown",
      "source": [
        "Исходя из полученных метрик качества, можно сделать следующие выводы:\n",
        "\n",
        "1. Случайный лес (Random Forest) показывает лучшие результаты по большинству метрик:\n",
        "   - Accuracy: 0.8422904670505438 (самая высокая точность)\n",
        "   - Precision: 0.8157129292091418 (самая высокая точность прогнозирования положительных классов)\n",
        "   - F1-score: 0.5958671997000048 (самый высокий гармонический показатель точности и полноты)\n",
        "\n",
        "2. Деревья решений (Decision Trees) также показывают неплохие результаты, особенно по полноте (Recall: 0.6467633746809529) и F1-score (0.6371655441422883).\n",
        "\n",
        "3. Метод опорных векторов (SVM) демонстрирует хорошие результаты по полноте (Recall: 0.759182283195273) и F1-score (0.7205847204547752).\n",
        "\n",
        "4. Наивный Байес (Naive Bayes) и K-ближайших соседей (KNN) показывают более низкие результаты по сравнению со случайным лесом, деревьями решений и SVM.\n",
        "\n",
        "5. Логистическая регрессия занимает промежуточное положение между более простыми моделями (Naive Bayes, KNN) и более сложными (Random Forest, Decision Trees, SVM).<br>\n",
        "Победитель по метрикам - **Случайный лес**"
      ],
      "metadata": {
        "id": "d2tnbLnD5sX8"
      }
    }
  ]
}