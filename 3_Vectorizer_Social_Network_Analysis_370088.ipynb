{
  "nbformat": 4,
  "nbformat_minor": 0,
  "metadata": {
    "colab": {
      "provenance": [],
      "gpuType": "T4"
    },
    "kernelspec": {
      "name": "python3",
      "display_name": "Python 3"
    },
    "language_info": {
      "name": "python"
    },
    "accelerator": "GPU"
  },
  "cells": [
    {
      "cell_type": "markdown",
      "source": [
        "<H1> Разработка инструмента для прогнозирования популярности постов в социальных сетях с применением методов машинного обучения </H1>"
      ],
      "metadata": {
        "id": "oDiGpZeFeUPE"
      }
    },
    {
      "cell_type": "markdown",
      "source": [
        "Проект содержит следующие этапы:\n",
        "* Сбор БД и визуализация данных\n",
        "* Токенизация, лемматизация и стемминг данных\n",
        "* **Векторизация**\n",
        "* Классификация\n",
        "* Подбор гиперпараметров и демонстрация итоговых результатов"
      ],
      "metadata": {
        "id": "Xc2I5KxGeYrN"
      }
    },
    {
      "cell_type": "markdown",
      "source": [
        "Для корректной работы кода необходимо загрузить файл \"ITMO_2.csv\", полученный в рамках предыдущего шага проекта."
      ],
      "metadata": {
        "id": "Ipix5a9AfP6s"
      }
    },
    {
      "cell_type": "markdown",
      "source": [
        "# **Векторизация**\n",
        "Векторизация текста — это процесс преобразования текста в числовой формат, который могут понимать и обрабатывать алгоритмы машинного обучения"
      ],
      "metadata": {
        "id": "aN8Y66eBek7v"
      }
    },
    {
      "cell_type": "markdown",
      "source": [
        "## Bag of Words\n",
        "Мешок слов — представление текста в виде массива, состоящего из отдельных слов и количества их использования"
      ],
      "metadata": {
        "id": "46uH3Em3e5TI"
      }
    },
    {
      "cell_type": "code",
      "execution_count": null,
      "metadata": {
        "id": "p8uN4596eQ6x"
      },
      "outputs": [],
      "source": [
        "import csv\n",
        "import numpy as np\n",
        "from sklearn.feature_extraction.text import CountVectorizer"
      ]
    },
    {
      "cell_type": "code",
      "source": [
        "import csv\n",
        "import numpy as np\n",
        "from sklearn.feature_extraction.text import CountVectorizer\n",
        "\n",
        "def vectorize_text_bag_of_words(input_file, output_file, num_records=15540):\n",
        "    # векторизация текста через Bag of Words\n",
        "\n",
        "    # пустой список для записи в него текстов\n",
        "    corpus = []\n",
        "\n",
        "    # чтение столбца lemmatized_text\n",
        "    with open(input_file, 'r', encoding='utf-8') as file:\n",
        "        reader = csv.DictReader(file)\n",
        "        # запись в пустой список\n",
        "        for i, row in enumerate(reader):\n",
        "            if i >= num_records:\n",
        "                break\n",
        "            lemmatized_text = row['lemmatized_text']\n",
        "            corpus.append(lemmatized_text)\n",
        "\n",
        "    # непосредственно векторизация через мешок слов\n",
        "    vectorizer = CountVectorizer()\n",
        "    X = vectorizer.fit_transform(corpus)\n",
        "    feature_names = vectorizer.get_feature_names_out()\n",
        "\n",
        "    # Сохранение данных в формате npz\n",
        "    np.savez_compressed(output_file, X=X.toarray(), feature_names=feature_names)\n",
        "\n",
        "# вызов функции\n",
        "vectorize_text_bag_of_words('ITMO_2.csv', 'ITMO_2_vectorized_bag_of_words.npz', num_records=15627)"
      ],
      "metadata": {
        "id": "0xVlElYUe_rM"
      },
      "execution_count": null,
      "outputs": []
    },
    {
      "cell_type": "markdown",
      "source": [
        "## TF-IDF\n",
        "TF-IDF - это статистическая мера, используемая для оценки важности слова в контексте документа"
      ],
      "metadata": {
        "id": "bd-Sv8l-fWQz"
      }
    },
    {
      "cell_type": "code",
      "source": [
        "import csv\n",
        "import numpy as np\n",
        "from sklearn.feature_extraction.text import TfidfVectorizer\n",
        "\n",
        "def vectorize_text_tf_idf(input_file, output_file):\n",
        "    # векторизация текста через TF-IDF\n",
        "\n",
        "    # пустой список для записи в него текстов\n",
        "    corpus = []\n",
        "\n",
        "    # чтение столбца lemmatized_text\n",
        "    with open(input_file, 'r', encoding='utf-8') as file:\n",
        "        reader = csv.DictReader(file)\n",
        "        # запись в пустой список\n",
        "        for row in reader:\n",
        "            lemmatized_text = row['lemmatized_text']\n",
        "            corpus.append(lemmatized_text)\n",
        "\n",
        "    # непосредственно векторизация через мешок слов\n",
        "    vectorizer = TfidfVectorizer()\n",
        "    X = vectorizer.fit_transform(corpus)\n",
        "    feature_names = vectorizer.get_feature_names_out()\n",
        "\n",
        "    # Сохранение данных в формате npz\n",
        "    np.savez_compressed(output_file, X=X.toarray(), feature_names=feature_names)\n",
        "\n",
        "# вызов функции\n",
        "vectorize_text_tf_idf('ITMO_2.csv', 'ITMO_2_vectorized_tf_idf.npz')"
      ],
      "metadata": {
        "id": "W-YwuO17fYxD"
      },
      "execution_count": null,
      "outputs": []
    },
    {
      "cell_type": "markdown",
      "source": [
        "## Word2Vec\n",
        "Word2Vec - модель, которая позволяет получать численные векторные представления слов, которые отражают семантические и синтаксические связи между ними"
      ],
      "metadata": {
        "id": "X3npAB2NfdD_"
      }
    },
    {
      "cell_type": "code",
      "source": [
        "import csv\n",
        "import gensim.downloader as api\n",
        "import numpy as np\n",
        "from gensim.matutils import full2sparse_clipped\n",
        "\n",
        "def vectorize_text_word2vec(input_file, output_file):\n",
        "    # загрузка предобученной модели\n",
        "    wv = api.load('word2vec-ruscorpora-300')\n",
        "    vocab = wv.index_to_key  # используем словарь из модели Word2Vec\n",
        "\n",
        "    # пустой список для записи в него текстов\n",
        "    corpus = []\n",
        "    corpus_vectors = []\n",
        "\n",
        "    # чтение столбца lemmatized_text\n",
        "    with open(input_file, 'r', encoding='utf-8') as file:\n",
        "        reader = csv.DictReader(file)\n",
        "        # запись в пустой список\n",
        "        for row in reader:\n",
        "            lemmatized_text = row['lemmatized_text']\n",
        "            corpus.append(lemmatized_text)\n",
        "\n",
        "            # вектора каждого слова из предложения\n",
        "            preprocessing_text = lemmatized_text.split()\n",
        "            vectors_word = [wv[word] if word in vocab else np.zeros(300) for word in preprocessing_text]\n",
        "            vector_text = np.mean(full2sparse_clipped(vectors_word, 300), axis=0)\n",
        "            corpus_vectors.append(vector_text)\n",
        "\n",
        "    # сохранение в формате .npz\n",
        "    np.savez_compressed(output_file, corpus=np.array(corpus, dtype=object), corpus_vectors=np.array(corpus_vectors))\n",
        "\n",
        "# вызов функции\n",
        "vectorize_text_word2vec('ITMO_2.csv', 'ITMO_2_vectorized_word2vec.npz')"
      ],
      "metadata": {
        "colab": {
          "base_uri": "https://localhost:8080/"
        },
        "id": "ZBmNKqA8fhDA",
        "outputId": "315da6c2-5fce-4be5-cd0e-79a4696569b3"
      },
      "execution_count": null,
      "outputs": [
        {
          "output_type": "stream",
          "name": "stdout",
          "text": [
            "[==================================================] 100.0% 198.8/198.8MB downloaded\n"
          ]
        },
        {
          "output_type": "stream",
          "name": "stderr",
          "text": [
            "/usr/local/lib/python3.10/dist-packages/numpy/core/fromnumeric.py:3504: RuntimeWarning: Mean of empty slice.\n",
            "  return _methods._mean(a, axis=axis, dtype=dtype,\n",
            "/usr/local/lib/python3.10/dist-packages/numpy/core/_methods.py:129: RuntimeWarning: invalid value encountered in scalar divide\n",
            "  ret = ret.dtype.type(ret / rcount)\n"
          ]
        }
      ]
    },
    {
      "cell_type": "markdown",
      "source": [
        "# **Определение тональности текста**\n",
        "Анализ тональности текста (англ. Sentiment analysis) — задача компьютерной лингвистики, заключающаяся в определении эмоциональной окраски (тональности) текста и, в частности, в выявлении эмоциональной оценки авторов по отношению к объектам, описываемым в тексте."
      ],
      "metadata": {
        "id": "C_q0L2v5fqbD"
      }
    },
    {
      "cell_type": "code",
      "source": [
        "!pip install pymorphy2 > None\n",
        "import pymorphy2"
      ],
      "metadata": {
        "id": "g22lj8Usf2ZY"
      },
      "execution_count": null,
      "outputs": []
    },
    {
      "cell_type": "code",
      "source": [
        "import pandas as pd\n",
        "import urllib.request\n",
        "import re\n",
        "\n",
        "# загрузка данных из файла\n",
        "data = pd.read_csv('ITMO_2.csv')\n",
        "\n",
        "# скачивание словаря RuSentiLex\n",
        "url = 'http://www.labinform.ru/pub/rusentilex/rusentilex_2017.txt'\n",
        "urllib.request.urlretrieve(url, 'rusentilex_2017.txt')\n",
        "\n",
        "# работа со словарем RuSentiLex\n",
        "senti_lexicon = {}\n",
        "with open('rusentilex_2017.txt', 'r', encoding='utf-8') as f:\n",
        "    for line in f:\n",
        "        # пропуск строк, которые начинаются с !\n",
        "        if not line.startswith('!'):\n",
        "            parts = line.strip().split(',')\n",
        "            # преобразуем оставшиеся строки в пары ключ-значение\n",
        "            if len(parts) >= 4:\n",
        "                word = parts[0]\n",
        "                sentiment = parts[3]\n",
        "                senti_lexicon[word] = sentiment\n",
        "\n",
        "\n",
        "def get_text_sentiment(lemmatized_text):\n",
        "    # определение тональности\n",
        "\n",
        "    # разбиваю каждую строку на отдельные слова\n",
        "    tokens = re.split(r'\\s+', lemmatized_text)\n",
        "    # счетчики в ноль\n",
        "    positive_count = 0\n",
        "    negative_count = 0\n",
        "    neutral_count = 0\n",
        "\n",
        "    # каждому слову в строке начисляю \"баллы\" за positive, negative, neutral\n",
        "    for token in tokens:\n",
        "        if token in senti_lexicon:\n",
        "            sentiment = senti_lexicon[token]\n",
        "            if sentiment == 'pos':\n",
        "                positive_count += 1\n",
        "            elif sentiment == 'neg':\n",
        "                negative_count += 1\n",
        "            else:\n",
        "                neutral_count += 1\n",
        "\n",
        "    # подсчитываю кол-во баллов по каждой тональности\n",
        "    max_count = max(positive_count, negative_count, neutral_count)\n",
        "    # если в строке больше позитивных слов, но вся строка позитивная\n",
        "    if max_count == positive_count:\n",
        "        return 'Positive'\n",
        "    # если в строке больше негативных слов, то вся строка негативная\n",
        "    elif max_count == negative_count:\n",
        "        return 'Negative'\n",
        "    # в остальных случаях строка нейтральная\n",
        "    else:\n",
        "        return 'Neutral'\n",
        "\n",
        "# применение функции к столбцу с лемматизированными текстами\n",
        "data['sentiment'] = data['lemmatized_text'].fillna('').apply(get_text_sentiment)\n",
        "\n",
        "# Сохранение результатов в новый файл\n",
        "data.to_csv('ITMO_3.csv', index=False)"
      ],
      "metadata": {
        "id": "ZO5YWjIsf4kO"
      },
      "execution_count": null,
      "outputs": []
    },
    {
      "cell_type": "code",
      "source": [
        "import matplotlib.pyplot as plt\n",
        "\n",
        "# подсчет количества текстов для каждой тональности\n",
        "sentiment_counts = data['sentiment'].value_counts()\n",
        "\n",
        "# создание графика\n",
        "fig, ax = plt.subplots(figsize=(8, 6))\n",
        "ax.bar(sentiment_counts.index, sentiment_counts.values)\n",
        "ax.set_title('Распределение тональности текстов', fontsize=16)\n",
        "ax.set_xlabel('Тональность', fontsize=14)\n",
        "ax.set_ylabel('Количество текстов', fontsize=14)\n",
        "\n",
        "# вывод графика\n",
        "plt.show()"
      ],
      "metadata": {
        "colab": {
          "base_uri": "https://localhost:8080/"
        },
        "id": "OyEdwxQmf7IU",
        "outputId": "1e8326d5-8fcd-4176-e105-f6712144a381"
      },
      "execution_count": null,
      "outputs": [
        {
          "output_type": "display_data",
          "data": {
            "text/plain": [
              "<Figure size 800x600 with 1 Axes>"
            ],
            "image/png": "[encoded data removed]"
          },
          "metadata": {}
        }
      ]
    },
    {
      "cell_type": "markdown",
      "source": [
        "В рамках работы с датасетом было выполнено несколько преобразований. Каждый из них сохранен под определенным порядковым номером:\n",
        "<li> ITMO_0.csv - исходный датасет в результате парсинга стены vk\n",
        "<li> ITMO_1.csv - датасет с добавлением столбца популярности поста (если набрал > 30 лайков)\n",
        "<li> ITMO_2.csv - датасет с токенизацией, лемматизацией и стеммингом\n",
        "<li> ITMO_2_vectorized_bag_of_words.npz - векторизация через Bag of Words\n",
        "<li> ITMO_2_vectorized_tf_idf.npz - векторизация через TF-IDF\n",
        "<li> ITMO_2_vectorized_word2vec.npz.csv - векторизация через Word2Vec\n",
        "<li> ITMO_3.csv - датасет с добавлением столбца по анализу сентимента (позитив, негатив, нейтралитет)"
      ],
      "metadata": {
        "id": "y3TAMoqBiLXH"
      }
    },
    {
      "cell_type": "markdown",
      "source": [
        "**Промежуточные выводы:**\n",
        "<li> Была выполнена векторизация текста тремя подходами: Bag of Words, TF-IDF, Word2Vec\n",
        "<li> Решена задача определения тональности текста. На официальной странице университета в VK размещается только нейтральная или позитивная информация"
      ],
      "metadata": {
        "id": "vx6rIvtqiLvt"
      }
    }
  ]
}