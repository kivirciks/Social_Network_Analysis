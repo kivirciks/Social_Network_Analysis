{
  "cells": [
    {
      "cell_type": "markdown",
      "metadata": {
        "id": "Mb3Btt1dxuA8"
      },
      "source": [
        "<H1> Разработка инструмента для прогнозирования популярности постов в социальных сетях с применением методов машинного обучения </H1>"
      ]
    },
    {
      "cell_type": "markdown",
      "metadata": {
        "id": "m7J8uzN0xva7"
      },
      "source": [
        "Проект содержит следующие этапы:\n",
        "* Сбор БД и визуализация данных\n",
        "* Токенизация, лемматизация и стемминг данных\n",
        "* Векторизация\n",
        "* Классификация\n",
        "* **Подбор гиперпараметров и демонстрация итоговых результатов**"
      ]
    },
    {
      "cell_type": "markdown",
      "metadata": {
        "id": "HDwE8LkLx0pj"
      },
      "source": [
        "Для корректной работы кода необходимо загрузить файлы \"ITMO_2.csv\", \"ITMO_2_vectorized_bag_of_words\n",
        ".npz\",  полученные в рамках предыдущего шага проекта."
      ]
    },
    {
      "cell_type": "code",
      "execution_count": null,
      "metadata": {
        "execution": {
          "iopub.execute_input": "2024-09-18T10:27:51.841952Z",
          "iopub.status.busy": "2024-09-18T10:27:51.840909Z",
          "iopub.status.idle": "2024-09-18T10:27:54.079994Z",
          "shell.execute_reply": "2024-09-18T10:27:54.079059Z",
          "shell.execute_reply.started": "2024-09-18T10:27:51.841901Z"
        },
        "id": "zDZdch7FxvCE",
        "tags": []
      },
      "outputs": [],
      "source": [
        "import numpy as np\n",
        "import pandas as pd\n",
        "\n",
        "from sklearn.model_selection import train_test_split\n",
        "from sklearn.metrics import accuracy_score\n",
        "from sklearn.metrics import precision_score\n",
        "from sklearn.metrics import recall_score\n",
        "from sklearn.metrics import f1_score\n",
        "from sklearn.metrics import classification_report"
      ]
    },
    {
      "cell_type": "code",
      "execution_count": null,
      "metadata": {
        "execution": {
          "iopub.execute_input": "2024-09-18T10:27:54.082072Z",
          "iopub.status.busy": "2024-09-18T10:27:54.081243Z",
          "iopub.status.idle": "2024-09-18T10:28:14.077133Z",
          "shell.execute_reply": "2024-09-18T10:28:14.076421Z",
          "shell.execute_reply.started": "2024-09-18T10:27:54.082032Z"
        },
        "id": "1cUdYZ-FzK4d",
        "tags": []
      },
      "outputs": [],
      "source": [
        "# Загрузка данных из файла .npz\n",
        "data_npz = np.load('ITMO_2_vectorized_bag_of_words.npz', allow_pickle=True)\n",
        "\n",
        "# Извлечение переменной 'data' из файла .npz\n",
        "X_data = data_npz['X']\n",
        "\n",
        "# Загрузка целевой переменной из файла ITMO_2.csv\n",
        "y_data = pd.read_csv('ITMO_2.csv')['popular']\n",
        "\n",
        "# Разделение на обучающую и тестовую выборки\n",
        "X_train, X_test, y_train, y_test = train_test_split(X_data, y_data, test_size=0.2, random_state=42)"
      ]
    },
    {
      "cell_type": "markdown",
      "metadata": {
        "id": "EUR4thNPyI5b"
      },
      "source": [
        "# **Подбор гиперпараметров**"
      ]
    },
    {
      "cell_type": "markdown",
      "metadata": {
        "id": "IK5qCK-YyMl8"
      },
      "source": [
        "## GridSearch\n",
        "GreedSearch (Жадный Поиск) - это эвристический метод оптимизации, основная идея которого заключается в том, что на каждом шаге алгоритм выбирает локально оптимальное решение, надеясь, что в итоге это приведет к глобальному оптимуму."
      ]
    },
    {
      "cell_type": "code",
      "execution_count": null,
      "metadata": {
        "execution": {
          "iopub.execute_input": "2024-09-18T10:28:14.079275Z",
          "iopub.status.busy": "2024-09-18T10:28:14.078157Z",
          "iopub.status.idle": "2024-09-18T10:28:14.303015Z",
          "shell.execute_reply": "2024-09-18T10:28:14.302150Z",
          "shell.execute_reply.started": "2024-09-18T10:28:14.079233Z"
        },
        "id": "O21KBixFyKkr",
        "tags": []
      },
      "outputs": [],
      "source": [
        "from sklearn.linear_model import LogisticRegression\n",
        "from sklearn.model_selection import RandomizedSearchCV\n",
        "from sklearn.model_selection import GridSearchCV\n",
        "from sklearn.pipeline import Pipeline\n",
        "from sklearn.metrics import classification_report"
      ]
    },
    {
      "cell_type": "code",
      "execution_count": null,
      "metadata": {
        "execution": {
          "iopub.execute_input": "2024-09-18T10:28:14.305503Z",
          "iopub.status.busy": "2024-09-18T10:28:14.304729Z",
          "iopub.status.idle": "2024-09-18T10:28:14.317675Z",
          "shell.execute_reply": "2024-09-18T10:28:14.317029Z",
          "shell.execute_reply.started": "2024-09-18T10:28:14.305455Z"
        },
        "id": "BlrfrwIcxg2F",
        "tags": []
      },
      "outputs": [],
      "source": [
        "# определяем классификатор\n",
        "pipeline = Pipeline([('clf', LogisticRegression())])"
      ]
    },
    {
      "cell_type": "code",
      "execution_count": null,
      "metadata": {
        "execution": {
          "iopub.execute_input": "2024-09-18T10:31:01.988163Z",
          "iopub.status.busy": "2024-09-18T10:31:01.986731Z",
          "iopub.status.idle": "2024-09-18T10:31:02.016032Z",
          "shell.execute_reply": "2024-09-18T10:31:02.015182Z",
          "shell.execute_reply.started": "2024-09-18T10:31:01.988113Z"
        },
        "id": "kbo5FaNPzrVz",
        "tags": []
      },
      "outputs": [],
      "source": [
        "# сетка параметров\n",
        "parameters = {'clf__C':[1, 2, 3, 4, 5],\n",
        "              'clf__penalty': [None, 'l1', 'l2', 'elasticnet'],\n",
        "              'clf__solver':['liblinear', 'newton-cg', 'lbfgs', 'newton-cholesky', 'sag', 'saga']\n",
        "              }\n",
        "\n",
        "grid_search = GridSearchCV(\n",
        "    estimator = pipeline,\n",
        "    param_grid = parameters,\n",
        "    cv = 3,\n",
        "    )"
      ]
    },
    {
      "cell_type": "code",
      "execution_count": null,
      "metadata": {
        "execution": {
          "iopub.execute_input": "2024-09-18T10:31:03.309643Z",
          "iopub.status.busy": "2024-09-18T10:31:03.308711Z"
        },
        "id": "HxFL4Bb3zuoM",
        "tags": [],
        "collapsed": true
      },
      "outputs": [],
      "source": [
        "%%time\n",
        "grid_search.fit(X_train, y_train)"
      ]
    },
    {
      "cell_type": "code",
      "execution_count": null,
      "metadata": {
        "id": "K_z3vjGom0GJ",
        "tags": []
      },
      "outputs": [],
      "source": [
        "# лучшие параметры классификатора\n",
        "best_parameters = grid_search.best_estimator_.get_params()\n",
        "for param_name in sorted(parameters.keys()):\n",
        "  print(f'{param_name}: {best_parameters[param_name]}')"
      ]
    },
    {
      "cell_type": "code",
      "execution_count": null,
      "metadata": {
        "id": "4gVxlZY3m1KY",
        "tags": []
      },
      "outputs": [],
      "source": [
        "# тестирование\n",
        "y_pred = grid_search.best_estimator_.predict(X_test)\n",
        "print(classification_report(y_test, y_pred, digits = 4))"
      ]
    },
    {
      "cell_type": "code",
      "execution_count": null,
      "metadata": {
        "id": "FcUcmJxLm55w",
        "tags": []
      },
      "outputs": [],
      "source": [
        "print('Accuracy: ', accuracy_score(y_test, y_pred))\n",
        "print('Precision: ', precision_score(y_test, y_pred, average='macro'))\n",
        "print('Recall: ', recall_score(y_test, y_pred, average='macro'))\n",
        "print('F1: ', f1_score(y_test, y_pred, average='macro'))"
      ]
    },
    {
      "cell_type": "markdown",
      "metadata": {
        "id": "P1K7GwnqoWwv"
      },
      "source": [
        "## RandomizedSearch\n",
        "RandomizedSearch (Случайный поиск) - метод оптимизации, который проводит случайную выборку комбинаций гиперпараметров из заданного пространства поиска. Случайный выбор комбинаций дает возможность обнаружить неочевидные, но эффективные настройки"
      ]
    },
    {
      "cell_type": "code",
      "execution_count": null,
      "metadata": {
        "id": "18GRyB1DoxGo",
        "tags": []
      },
      "outputs": [],
      "source": [
        "from sklearn.model_selection import RandomizedSearchCV"
      ]
    },
    {
      "cell_type": "code",
      "execution_count": null,
      "metadata": {
        "id": "E7g1_79zoxJ3",
        "tags": []
      },
      "outputs": [],
      "source": [
        "pipeline = Pipeline([('clf', LogisticRegression())])"
      ]
    },
    {
      "cell_type": "code",
      "execution_count": null,
      "metadata": {
        "id": "8_E6BbMKoxMc",
        "tags": []
      },
      "outputs": [],
      "source": [
        "# сетка параметров\n",
        "parameters = {'clf__C':[1, 2, 3, 4, 5],\n",
        "              'clf__penalty': [None, 'l1', 'l2', 'elasticnet'],\n",
        "              'clf__solver':['liblinear', 'newton-cg', 'lbfgs', 'newton-cholesky', 'sag', 'saga']\n",
        "              }\n",
        "\n",
        "random_search = RandomizedSearchCV(\n",
        "    estimator = pipeline,\n",
        "    param_distributions = parameters,\n",
        "    n_iter = 3,\n",
        "    random_state = 2023,\n",
        "    cv = 3,\n",
        "    )"
      ]
    },
    {
      "cell_type": "code",
      "execution_count": null,
      "metadata": {
        "id": "8JlsJtA2o-D-",
        "tags": []
      },
      "outputs": [],
      "source": [
        "%%time\n",
        "random_search.fit(X_train, y_train)"
      ]
    },
    {
      "cell_type": "code",
      "execution_count": null,
      "metadata": {
        "id": "b3w3om3bo_kL",
        "tags": []
      },
      "outputs": [],
      "source": [
        "# лучшие параметры классификатора\n",
        "best_parameters = random_search.best_estimator_.get_params()\n",
        "for param_name in sorted(parameters.keys()):\n",
        "  print(f'{param_name}: {best_parameters[param_name]}')"
      ]
    },
    {
      "cell_type": "code",
      "execution_count": null,
      "metadata": {
        "id": "GdDeyVI6pBEA",
        "tags": []
      },
      "outputs": [],
      "source": [
        "# тестирование\n",
        "y_pred = random_search.best_estimator_.predict(X_test)\n",
        "print(classification_report(y_test, y_pred, digits = 4))"
      ]
    },
    {
      "cell_type": "code",
      "execution_count": null,
      "metadata": {
        "id": "ETsZPk-0pCro",
        "tags": []
      },
      "outputs": [],
      "source": [
        "print('Accuracy: ', accuracy_score(y_test, y_pred))\n",
        "print('Precision: ', precision_score(y_test, y_pred, average='macro'))\n",
        "print('Recall: ', recall_score(y_test, y_pred, average='macro'))\n",
        "print('F1: ', f1_score(y_test, y_pred, average='macro'))"
      ]
    },
    {
      "cell_type": "markdown",
      "metadata": {
        "id": "F_DoZGeypD_x"
      },
      "source": [
        "## Halving GridSearch\n",
        "Halving GridSearch (Последовательное сокращение вдвое) - метод оптимизации, при котором последовательно уменьшается количество рассматриваемых комбинаций гиперпараметров на каждом этапе. Подход позволяет эффективно фокусироваться на наиболее перспективных областях пространства гиперпараметров, отбрасывая менее перспективные варианты"
      ]
    },
    {
      "cell_type": "code",
      "execution_count": null,
      "metadata": {
        "id": "cUgKTVbHpG1G",
        "tags": []
      },
      "outputs": [],
      "source": [
        "from sklearn.experimental import enable_halving_search_cv\n",
        "from sklearn.model_selection import HalvingGridSearchCV"
      ]
    },
    {
      "cell_type": "code",
      "execution_count": null,
      "metadata": {
        "id": "x1HdxRZrpG4Y",
        "tags": []
      },
      "outputs": [],
      "source": [
        "pipeline = Pipeline([('clf', LogisticRegression())])"
      ]
    },
    {
      "cell_type": "code",
      "execution_count": null,
      "metadata": {
        "id": "Y0Nmyx9opKU2",
        "tags": []
      },
      "outputs": [],
      "source": [
        "# сетка параметров\n",
        "parameters = {'clf__C':[1, 2, 3, 4, 5],\n",
        "              'clf__penalty': [None, 'l1', 'l2', 'elasticnet'],\n",
        "              'clf__solver':['liblinear', 'newton-cg', 'lbfgs', 'newton-cholesky', 'sag', 'saga']\n",
        "              }\n",
        "\n",
        "halving_search = HalvingGridSearchCV(\n",
        "    estimator=pipeline,\n",
        "    param_grid=parameters,\n",
        "    cv = 3,\n",
        "    factor=1.2,\n",
        "    random_state=0,\n",
        ")"
      ]
    },
    {
      "cell_type": "code",
      "execution_count": null,
      "metadata": {
        "id": "sHIiuMdWpLk6",
        "tags": []
      },
      "outputs": [],
      "source": [
        "%%time\n",
        "\n",
        "halving_search.fit(X_train, y_train)"
      ]
    },
    {
      "cell_type": "code",
      "execution_count": null,
      "metadata": {
        "id": "N7JJ67fLpM3W",
        "tags": []
      },
      "outputs": [],
      "source": [
        "best_parameters = halving_search.best_estimator_.get_params()\n",
        "for param_name in sorted(parameters.keys()):\n",
        "    print(f\"{param_name}: {best_parameters[param_name]}\")"
      ]
    },
    {
      "cell_type": "code",
      "execution_count": null,
      "metadata": {
        "id": "TpgoZIfipOR-",
        "tags": []
      },
      "outputs": [],
      "source": [
        "y_pred = halving_search.best_estimator_.predict(X_test)\n",
        "print(classification_report(y_test, y_pred))"
      ]
    },
    {
      "cell_type": "code",
      "execution_count": null,
      "metadata": {
        "tags": [],
        "id": "t2mEOX_BrSqK"
      },
      "outputs": [],
      "source": [
        "print('Accuracy: ', accuracy_score(y_test, y_pred))\n",
        "print('Precision: ', precision_score(y_test, y_pred, average='macro'))\n",
        "print('Recall: ', recall_score(y_test, y_pred, average='macro'))\n",
        "print('F1: ', f1_score(y_test, y_pred, average='macro'))"
      ]
    }
  ],
  "metadata": {
    "accelerator": "GPU",
    "colab": {
      "gpuType": "T4",
      "provenance": []
    },
    "kernelspec": {
      "display_name": "DataSphere Kernel",
      "language": "python",
      "name": "python3"
    },
    "language_info": {
      "codemirror_mode": {
        "name": "ipython",
        "version": 3
      },
      "file_extension": ".py",
      "mimetype": "text/x-python",
      "name": "python",
      "nbconvert_exporter": "python",
      "pygments_lexer": "ipython3",
      "version": "3.10.12"
    }
  },
  "nbformat": 4,
  "nbformat_minor": 0
}