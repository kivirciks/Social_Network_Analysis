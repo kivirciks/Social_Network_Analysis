{
  "cells": [
    {
      "cell_type": "markdown",
      "metadata": {
        "id": "1Fmanvpoi16b"
      },
      "source": [
        "<H1> Разработка инструмента для прогнозирования популярности постов в социальных сетях с применением методов машинного обучения </H1>"
      ]
    },
    {
      "cell_type": "markdown",
      "metadata": {
        "id": "Xb8PvgG5i2yy"
      },
      "source": [
        "Проект содержит следующие этапы:\n",
        "* Сбор БД и визуализация данных\n",
        "* Токенизация, лемматизация и стемминг данных\n",
        "* Векторизация\n",
        "* **Классификация**\n",
        "* Подбор гиперпараметров и демонстрация итоговых результатов"
      ]
    },
    {
      "cell_type": "markdown",
      "metadata": {
        "id": "BAoxAQzTi9BN"
      },
      "source": [
        "Для корректной работы кода необходимо загрузить файлы \"ITMO_2.csv\",  \"ITMO_2_vectorized_bag_of_words.npz\", полученные в рамках предыдущего шага проекта."
      ]
    },
    {
      "cell_type": "markdown",
      "metadata": {
        "id": "VNm5PdTflBYB"
      },
      "source": [
        "# **Разделение на обучающую и тестовую выборки**"
      ]
    },
    {
      "cell_type": "code",
      "execution_count": null,
      "metadata": {
        "colab": {
          "base_uri": "https://localhost:8080/"
        },
        "execution": {
          "iopub.execute_input": "2024-09-08T10:42:29.961874Z",
          "iopub.status.busy": "2024-09-08T10:42:29.960431Z",
          "iopub.status.idle": "2024-09-08T10:42:30.002059Z",
          "shell.execute_reply": "2024-09-08T10:42:30.000998Z",
          "shell.execute_reply.started": "2024-09-08T10:42:29.961833Z"
        },
        "id": "kCOsil_biwgj",
        "outputId": "b46d3815-b76f-4df8-baba-594d42ac4089",
        "tags": []
      },
      "outputs": [
        {
          "name": "stdout",
          "output_type": "stream",
          "text": [
            "Переменные в файле:\n",
            "X\n",
            "feature_names\n"
          ]
        }
      ],
      "source": [
        "import numpy as np\n",
        "\n",
        "# Загрузка данных из файла .npz\n",
        "data = np.load('ITMO_2_vectorized_bag_of_words.npz', allow_pickle=True)\n",
        "\n",
        "# Вывод списка переменных в файле\n",
        "print(\"Переменные в файле:\")\n",
        "for variable_name in data.files:\n",
        "    print(variable_name)"
      ]
    },
    {
      "cell_type": "code",
      "execution_count": null,
      "metadata": {
        "execution": {
          "iopub.execute_input": "2024-09-08T10:42:30.017406Z",
          "iopub.status.busy": "2024-09-08T10:42:30.016016Z",
          "iopub.status.idle": "2024-09-08T10:42:50.873962Z",
          "shell.execute_reply": "2024-09-08T10:42:50.872637Z",
          "shell.execute_reply.started": "2024-09-08T10:42:30.017353Z"
        },
        "id": "4Qi3p5Zgkxip",
        "tags": []
      },
      "outputs": [],
      "source": [
        "import numpy as np\n",
        "import pandas as pd\n",
        "from sklearn.model_selection import train_test_split\n",
        "\n",
        "# Загрузка данных из файла .npz\n",
        "data_npz = np.load('ITMO_2_vectorized_bag_of_words.npz', allow_pickle=True)\n",
        "\n",
        "# Извлечение переменной 'data' из файла .npz\n",
        "X_data = data_npz['X']\n",
        "\n",
        "# Загрузка целевой переменной из файла ITMO_2.csv\n",
        "y_data = pd.read_csv('ITMO_2.csv')['popular']\n",
        "\n",
        "# Разделение на обучающую и тестовую выборки\n",
        "X_train, X_test, y_train, y_test = train_test_split(X_data, y_data, test_size=0.2, random_state=42)"
      ]
    },
    {
      "cell_type": "code",
      "execution_count": null,
      "metadata": {
        "colab": {
          "base_uri": "https://localhost:8080/"
        },
        "execution": {
          "iopub.execute_input": "2024-09-08T10:42:50.877289Z",
          "iopub.status.busy": "2024-09-08T10:42:50.876237Z",
          "iopub.status.idle": "2024-09-08T10:42:50.904397Z",
          "shell.execute_reply": "2024-09-08T10:42:50.903098Z",
          "shell.execute_reply.started": "2024-09-08T10:42:50.877248Z"
        },
        "id": "z26cI4MIkynD",
        "outputId": "bce8968a-5835-4d83-da4c-441cdbc1d558",
        "tags": []
      },
      "outputs": [
        {
          "name": "stdout",
          "output_type": "stream",
          "text": [
            "12501\n",
            "3126\n"
          ]
        }
      ],
      "source": [
        "# размер обучающей и тестовой выборки\n",
        "print(len(X_train))\n",
        "print(len(X_test))"
      ]
    },
    {
      "cell_type": "code",
      "execution_count": null,
      "metadata": {
        "execution": {
          "iopub.execute_input": "2024-09-08T10:42:50.907255Z",
          "iopub.status.busy": "2024-09-08T10:42:50.905822Z",
          "iopub.status.idle": "2024-09-08T10:42:50.935123Z",
          "shell.execute_reply": "2024-09-08T10:42:50.933803Z",
          "shell.execute_reply.started": "2024-09-08T10:42:50.907197Z"
        },
        "id": "h3qp3euuk9zI",
        "tags": []
      },
      "outputs": [],
      "source": [
        "# метрики качества\n",
        "from sklearn.metrics import accuracy_score\n",
        "from sklearn.metrics import precision_score\n",
        "from sklearn.metrics import recall_score\n",
        "from sklearn.metrics import f1_score\n",
        "from sklearn.metrics import classification_report"
      ]
    },
    {
      "cell_type": "markdown",
      "metadata": {
        "id": "cPZYroQ8lMn5"
      },
      "source": [
        "# **Наивный Байес**\n",
        "Наивный Байес рассматривает классификацию как вероятностную задачу - он вычисляет вероятность принадлежности объекта к каждому классу и выбирает тот класс, для которого вероятность максимальна."
      ]
    },
    {
      "cell_type": "code",
      "execution_count": null,
      "metadata": {
        "execution": {
          "iopub.execute_input": "2024-09-08T10:07:31.999570Z",
          "iopub.status.busy": "2024-09-08T10:07:31.997413Z",
          "iopub.status.idle": "2024-09-08T10:07:32.030204Z",
          "shell.execute_reply": "2024-09-08T10:07:32.028917Z",
          "shell.execute_reply.started": "2024-09-08T10:07:31.999507Z"
        },
        "id": "8pQavMJQlOzQ",
        "tags": []
      },
      "outputs": [],
      "source": [
        "from sklearn.naive_bayes import MultinomialNB"
      ]
    },
    {
      "cell_type": "code",
      "execution_count": null,
      "metadata": {
        "execution": {
          "iopub.execute_input": "2024-09-08T10:07:32.032389Z",
          "iopub.status.busy": "2024-09-08T10:07:32.031430Z",
          "iopub.status.idle": "2024-09-08T10:07:32.061356Z",
          "shell.execute_reply": "2024-09-08T10:07:32.060181Z",
          "shell.execute_reply.started": "2024-09-08T10:07:32.032337Z"
        },
        "id": "RTcOgT4mlXQu",
        "tags": []
      },
      "outputs": [],
      "source": [
        "clf_nb = MultinomialNB(\n",
        "    # alpha (default=1.0) - параметр регуляризации\n",
        "    # Более высокие значения делают модель более устойчивой к переобучению\n",
        "        alpha = 1.1\n",
        ")"
      ]
    },
    {
      "cell_type": "code",
      "execution_count": null,
      "metadata": {
        "execution": {
          "iopub.execute_input": "2024-09-08T10:07:32.063673Z",
          "iopub.status.busy": "2024-09-08T10:07:32.062531Z",
          "iopub.status.idle": "2024-09-08T10:07:36.748088Z",
          "shell.execute_reply": "2024-09-08T10:07:36.746136Z",
          "shell.execute_reply.started": "2024-09-08T10:07:32.063615Z"
        },
        "id": "lyi2CELClXtn",
        "tags": []
      },
      "outputs": [],
      "source": [
        "clf_nb = clf_nb.fit(X_train, y_train)\n",
        "y_predict_nb = clf_nb.predict(X_test)"
      ]
    },
    {
      "cell_type": "code",
      "execution_count": null,
      "metadata": {
        "colab": {
          "base_uri": "https://localhost:8080/"
        },
        "execution": {
          "iopub.execute_input": "2024-09-08T10:07:36.752262Z",
          "iopub.status.busy": "2024-09-08T10:07:36.750148Z",
          "iopub.status.idle": "2024-09-08T10:07:36.805490Z",
          "shell.execute_reply": "2024-09-08T10:07:36.803645Z",
          "shell.execute_reply.started": "2024-09-08T10:07:36.752191Z"
        },
        "id": "eCxJZLzIlZUP",
        "outputId": "1b26e6dd-584d-4310-90cc-439157b1fedf",
        "tags": []
      },
      "outputs": [
        {
          "name": "stdout",
          "output_type": "stream",
          "text": [
            "Accuracy:  0.8218170185540628\n",
            "Precision:  0.7001475531110789\n",
            "Recall:  0.7069961308940109\n",
            "F1:  0.7034393521925737\n"
          ]
        }
      ],
      "source": [
        "print('Accuracy: ', accuracy_score(y_test, y_predict_nb))\n",
        "print('Precision: ', precision_score(y_test, y_predict_nb, average='macro'))\n",
        "print('Recall: ', recall_score(y_test, y_predict_nb, average='macro'))\n",
        "print('F1: ', f1_score(y_test, y_predict_nb, average='macro'))"
      ]
    },
    {
      "cell_type": "markdown",
      "metadata": {
        "id": "qRhUeEJelx93"
      },
      "source": [
        "# **Случайный лес**\n",
        "Случайный лес использует ансамблевое обучение, сочетающее в себе множество независимыо обученных решающих деревьев.\n",
        "\n"
      ]
    },
    {
      "cell_type": "code",
      "execution_count": null,
      "metadata": {
        "execution": {
          "iopub.execute_input": "2024-09-08T10:07:36.808738Z",
          "iopub.status.busy": "2024-09-08T10:07:36.807469Z",
          "iopub.status.idle": "2024-09-08T10:07:37.314739Z",
          "shell.execute_reply": "2024-09-08T10:07:37.313503Z",
          "shell.execute_reply.started": "2024-09-08T10:07:36.808644Z"
        },
        "id": "PMMVIw_QlxfR",
        "tags": []
      },
      "outputs": [],
      "source": [
        "from sklearn.ensemble import RandomForestClassifier"
      ]
    },
    {
      "cell_type": "code",
      "execution_count": null,
      "metadata": {
        "execution": {
          "iopub.execute_input": "2024-09-08T10:07:37.316798Z",
          "iopub.status.busy": "2024-09-08T10:07:37.315855Z",
          "iopub.status.idle": "2024-09-08T10:07:37.339618Z",
          "shell.execute_reply": "2024-09-08T10:07:37.338320Z",
          "shell.execute_reply.started": "2024-09-08T10:07:37.316734Z"
        },
        "id": "jdxrFBBDl0Q2",
        "tags": []
      },
      "outputs": [],
      "source": [
        "clf_rf =  RandomForestClassifier(\n",
        "        n_estimators = 200, # количество деревьев в ансамбле (default=100)\n",
        "        # какая функция используется для измерения качества разбиения деревьев\n",
        "        criterion = 'gini', # gini - Индекс Джини, entropy - Энтропия, log_loss - логарифмическая потеря, default gini\n",
        "        max_depth = 200, # максимальная глубина дерева, int, default=None\n",
        "        # уменьшение дисбаланса классов\n",
        "        # dict - пользовательские настройки\n",
        "        # balanced - автоматическая балансировка классов\n",
        "        # None - по умолчанию классы имеют одинаковые веса\n",
        "        class_weight = 'balanced', # default=None\n",
        "        random_state = 42 # контроль воспроизводимости результатов при использовании случайности\n",
        ")"
      ]
    },
    {
      "cell_type": "code",
      "execution_count": null,
      "metadata": {
        "execution": {
          "iopub.execute_input": "2024-09-08T10:07:37.345678Z",
          "iopub.status.busy": "2024-09-08T10:07:37.345024Z",
          "iopub.status.idle": "2024-09-08T10:13:18.228679Z",
          "shell.execute_reply": "2024-09-08T10:13:18.227426Z",
          "shell.execute_reply.started": "2024-09-08T10:07:37.345645Z"
        },
        "id": "gUxnwP0Dl1ob",
        "tags": []
      },
      "outputs": [],
      "source": [
        "clf_rf = clf_rf.fit(X_train, y_train)\n",
        "y_predict_rf = clf_rf.predict(X_test)"
      ]
    },
    {
      "cell_type": "code",
      "execution_count": null,
      "metadata": {
        "colab": {
          "base_uri": "https://localhost:8080/"
        },
        "execution": {
          "iopub.execute_input": "2024-09-08T10:13:18.230645Z",
          "iopub.status.busy": "2024-09-08T10:13:18.229959Z",
          "iopub.status.idle": "2024-09-08T10:13:18.260486Z",
          "shell.execute_reply": "2024-09-08T10:13:18.259153Z",
          "shell.execute_reply.started": "2024-09-08T10:13:18.230593Z"
        },
        "id": "fJIh7tiwl3E9",
        "outputId": "c52a8b4a-bc56-4e0f-afd0-0bd226e9addd"
      },
      "outputs": [
        {
          "name": "stdout",
          "output_type": "stream",
          "text": [
            "Accuracy:  0.8442098528470889\n",
            "Precision:  0.8172860873261675\n",
            "Recall:  0.586899995772605\n",
            "F1:  0.6058216806076463\n"
          ]
        }
      ],
      "source": [
        "print('Accuracy: ', accuracy_score(y_test, y_predict_rf))\n",
        "print('Precision: ', precision_score(y_test, y_predict_rf, average='macro'))\n",
        "print('Recall: ', recall_score(y_test, y_predict_rf, average='macro'))\n",
        "print('F1: ', f1_score(y_test, y_predict_rf, average='macro'))"
      ]
    },
    {
      "cell_type": "markdown",
      "metadata": {
        "id": "BUTzn-jdl4dn"
      },
      "source": [
        "# **Деревья решений**"
      ]
    },
    {
      "cell_type": "code",
      "execution_count": null,
      "metadata": {
        "execution": {
          "iopub.execute_input": "2024-09-08T10:13:18.263356Z",
          "iopub.status.busy": "2024-09-08T10:13:18.262131Z",
          "iopub.status.idle": "2024-09-08T10:13:18.283125Z",
          "shell.execute_reply": "2024-09-08T10:13:18.281932Z",
          "shell.execute_reply.started": "2024-09-08T10:13:18.263300Z"
        },
        "id": "zMGiR6r-l6yP"
      },
      "outputs": [],
      "source": [
        "from sklearn.tree import DecisionTreeClassifier"
      ]
    },
    {
      "cell_type": "code",
      "execution_count": null,
      "metadata": {
        "execution": {
          "iopub.execute_input": "2024-09-08T10:13:18.286175Z",
          "iopub.status.busy": "2024-09-08T10:13:18.284599Z",
          "iopub.status.idle": "2024-09-08T10:13:18.311902Z",
          "shell.execute_reply": "2024-09-08T10:13:18.310728Z",
          "shell.execute_reply.started": "2024-09-08T10:13:18.286110Z"
        },
        "id": "lnnPD4sYl8i_"
      },
      "outputs": [],
      "source": [
        "clf_dt =  DecisionTreeClassifier(\n",
        "        # определяет метрику, по которой будет происходить разделение\n",
        "        # 'gini' - индекс Джини (по умолчанию)\n",
        "        # 'entropy' - энтропия\n",
        "        # 'log_loss' - логарифмические потери\n",
        "        criterion = 'entropy',\n",
        "        # стратегия выбора признака\n",
        "        # 'best' - лучшией признак значения (по умолчанию)\n",
        "        # 'random' - выбирает случайный признак\n",
        "        splitter = 'best',\n",
        "        max_depth = 200, # максимальная глубина дерева, int, default=None\n",
        "        # учет дисбаланса классов при обучении модели\n",
        "        class_weight = 'balanced', #dict or ‘balanced’, default=None\n",
        "        random_state = 42 # задает начальное значение генератора для воспроизводимости результатов\n",
        ")"
      ]
    },
    {
      "cell_type": "code",
      "execution_count": null,
      "metadata": {
        "execution": {
          "iopub.execute_input": "2024-09-08T10:13:18.313711Z",
          "iopub.status.busy": "2024-09-08T10:13:18.313074Z",
          "iopub.status.idle": "2024-09-08T10:14:56.781708Z",
          "shell.execute_reply": "2024-09-08T10:14:56.780555Z",
          "shell.execute_reply.started": "2024-09-08T10:13:18.313658Z"
        },
        "id": "_5fQSJQtl9sv"
      },
      "outputs": [],
      "source": [
        "clf_dt = clf_dt.fit(X_train, y_train)\n",
        "y_predict_dt = clf_dt.predict(X_test)"
      ]
    },
    {
      "cell_type": "code",
      "execution_count": null,
      "metadata": {
        "colab": {
          "base_uri": "https://localhost:8080/"
        },
        "execution": {
          "iopub.execute_input": "2024-09-08T10:14:56.783710Z",
          "iopub.status.busy": "2024-09-08T10:14:56.782863Z",
          "iopub.status.idle": "2024-09-08T10:14:56.819600Z",
          "shell.execute_reply": "2024-09-08T10:14:56.818407Z",
          "shell.execute_reply.started": "2024-09-08T10:14:56.783657Z"
        },
        "id": "Qp0ip63ml_CZ",
        "outputId": "93e16e3e-a9d8-4686-d01b-2ce3c856042c"
      },
      "outputs": [
        {
          "name": "stdout",
          "output_type": "stream",
          "text": [
            "Accuracy:  0.7869481765834933\n",
            "Precision:  0.6487073298218808\n",
            "Recall:  0.6614764419748449\n",
            "F1:  0.6543837922367683\n"
          ]
        }
      ],
      "source": [
        "print('Accuracy: ', accuracy_score(y_test, y_predict_dt))\n",
        "print('Precision: ', precision_score(y_test, y_predict_dt, average='macro'))\n",
        "print('Recall: ', recall_score(y_test, y_predict_dt, average='macro'))\n",
        "print('F1: ', f1_score(y_test, y_predict_dt, average='macro'))"
      ]
    },
    {
      "cell_type": "markdown",
      "metadata": {
        "id": "GTIqLMr1sTZg"
      },
      "source": [
        "# **K-ближайших соседей**"
      ]
    },
    {
      "cell_type": "code",
      "execution_count": null,
      "metadata": {
        "execution": {
          "iopub.execute_input": "2024-09-08T10:14:56.822284Z",
          "iopub.status.busy": "2024-09-08T10:14:56.820856Z",
          "iopub.status.idle": "2024-09-08T10:14:56.837187Z",
          "shell.execute_reply": "2024-09-08T10:14:56.835979Z",
          "shell.execute_reply.started": "2024-09-08T10:14:56.822223Z"
        },
        "id": "LGnlmtnksVaL"
      },
      "outputs": [],
      "source": [
        "from sklearn.neighbors import KNeighborsClassifier"
      ]
    },
    {
      "cell_type": "code",
      "execution_count": null,
      "metadata": {
        "execution": {
          "iopub.execute_input": "2024-09-08T10:14:56.839476Z",
          "iopub.status.busy": "2024-09-08T10:14:56.838310Z",
          "iopub.status.idle": "2024-09-08T10:14:56.859096Z",
          "shell.execute_reply": "2024-09-08T10:14:56.857915Z",
          "shell.execute_reply.started": "2024-09-08T10:14:56.839417Z"
        },
        "id": "OsHmEescsW66"
      },
      "outputs": [],
      "source": [
        "clf_KNN = KNeighborsClassifier(\n",
        "        n_neighbors = 3, # int, default=5, кол-во ближайших соседей\n",
        "        # способ взвешивания вклада соседей в определение класса\n",
        "        # 'uniform' - все соседи имеют одинаковый вес\n",
        "        # 'distance' - вес соседа прямо пропорционален его расстоянию до объекта\n",
        "        weights = 'distance', # default=’uniform’\n",
        "        # метрика расстояния, используемая для поиска\n",
        "        # 'euclidean' - Евклидово расстояние\n",
        "        # 'manhattan' - Манхэттенское расстояние\n",
        "        # 'chebyshev' - расстояние Чебышева\n",
        "        # 'cosine' - косинусное сходство\n",
        "        # 'minkowski' - расстояние Минковского\n",
        "        metric = 'euclidean', # default=’minkowski’\n",
        ")"
      ]
    },
    {
      "cell_type": "code",
      "execution_count": null,
      "metadata": {
        "execution": {
          "iopub.execute_input": "2024-09-08T10:14:56.860966Z",
          "iopub.status.busy": "2024-09-08T10:14:56.860317Z",
          "iopub.status.idle": "2024-09-08T10:15:22.091977Z",
          "shell.execute_reply": "2024-09-08T10:15:22.090721Z",
          "shell.execute_reply.started": "2024-09-08T10:14:56.860931Z"
        },
        "id": "IPOdLI1nsXXP"
      },
      "outputs": [],
      "source": [
        "clf_KNN = clf_KNN.fit(X_train, y_train)\n",
        "y_predict_KNN = clf_KNN.predict(X_test)"
      ]
    },
    {
      "cell_type": "code",
      "execution_count": null,
      "metadata": {
        "execution": {
          "iopub.execute_input": "2024-09-08T10:15:22.094244Z",
          "iopub.status.busy": "2024-09-08T10:15:22.093256Z",
          "iopub.status.idle": "2024-09-08T10:15:22.120046Z",
          "shell.execute_reply": "2024-09-08T10:15:22.118861Z",
          "shell.execute_reply.started": "2024-09-08T10:15:22.094201Z"
        },
        "id": "4hrJti1psYCb",
        "outputId": "9756f357-0e03-46ec-ed4d-0aa27dc33dda"
      },
      "outputs": [
        {
          "name": "stdout",
          "output_type": "stream",
          "text": [
            "Accuracy:  0.8119001919385797\n",
            "Precision:  0.6377088914402347\n",
            "Recall:  0.556108273982324\n",
            "F1:  0.5616118175018698\n"
          ]
        }
      ],
      "source": [
        "print('Accuracy: ', accuracy_score(y_test, y_predict_KNN))\n",
        "print('Precision: ', precision_score(y_test, y_predict_KNN, average='macro'))\n",
        "print('Recall: ', recall_score(y_test, y_predict_KNN, average='macro'))\n",
        "print('F1: ', f1_score(y_test, y_predict_KNN, average='macro'))"
      ]
    },
    {
      "cell_type": "markdown",
      "metadata": {
        "id": "LVtK_Qybsb-A"
      },
      "source": [
        "# **Метод опорных векторов**"
      ]
    },
    {
      "cell_type": "code",
      "execution_count": null,
      "metadata": {
        "execution": {
          "iopub.execute_input": "2024-09-08T10:15:22.122086Z",
          "iopub.status.busy": "2024-09-08T10:15:22.121224Z",
          "iopub.status.idle": "2024-09-08T10:15:22.187201Z",
          "shell.execute_reply": "2024-09-08T10:15:22.185968Z",
          "shell.execute_reply.started": "2024-09-08T10:15:22.122032Z"
        },
        "id": "HxYX-w5Ssdp1"
      },
      "outputs": [],
      "source": [
        "from sklearn.svm import LinearSVC"
      ]
    },
    {
      "cell_type": "code",
      "execution_count": null,
      "metadata": {
        "execution": {
          "iopub.execute_input": "2024-09-08T10:15:22.190083Z",
          "iopub.status.busy": "2024-09-08T10:15:22.188519Z",
          "iopub.status.idle": "2024-09-08T10:15:22.210077Z",
          "shell.execute_reply": "2024-09-08T10:15:22.208941Z",
          "shell.execute_reply.started": "2024-09-08T10:15:22.190019Z"
        },
        "id": "FUwSyw0Rsdut"
      },
      "outputs": [],
      "source": [
        "clf_lsvc = LinearSVC(\n",
        "        # тип регуляризации\n",
        "        # l1 - сумма абсолютных значений весов\n",
        "        # l2 - сумма квадратов весов\n",
        "        penalty = 'l2', # default=’l2’\n",
        "        # коэффициент регуляризации; чем меньше, тем больше регуляризация\n",
        "        C = 0.2, #float, default=1.0\n",
        "        # способ учета дисбаланса классов\n",
        "        class_weight = 'balanced', # default=None\n",
        "        # начальное состояние генератора для воспроизводимости результата\n",
        "        random_state = 42,\n",
        "        # максимальное число итераций оптимизации\n",
        "        max_iter = 2000 # int, default=1000\n",
        ")"
      ]
    },
    {
      "cell_type": "code",
      "execution_count": null,
      "metadata": {
        "execution": {
          "iopub.execute_input": "2024-09-08T10:15:22.213419Z",
          "iopub.status.busy": "2024-09-08T10:15:22.211583Z",
          "iopub.status.idle": "2024-09-08T10:15:27.130783Z",
          "shell.execute_reply": "2024-09-08T10:15:27.128478Z",
          "shell.execute_reply.started": "2024-09-08T10:15:22.213359Z"
        },
        "id": "abcuWenKsdyR"
      },
      "outputs": [],
      "source": [
        "clf_lsvc = clf_lsvc.fit(X_train, y_train)\n",
        "y_predict_lsvc = clf_lsvc.predict(X_test)"
      ]
    },
    {
      "cell_type": "code",
      "execution_count": null,
      "metadata": {
        "colab": {
          "base_uri": "https://localhost:8080/"
        },
        "execution": {
          "iopub.execute_input": "2024-09-08T10:15:27.145709Z",
          "iopub.status.busy": "2024-09-08T10:15:27.139953Z",
          "iopub.status.idle": "2024-09-08T10:15:27.200149Z",
          "shell.execute_reply": "2024-09-08T10:15:27.198488Z",
          "shell.execute_reply.started": "2024-09-08T10:15:27.145618Z"
        },
        "id": "J4P936Blsd2Z",
        "outputId": "309ba6d2-6676-4688-9ceb-8738d44d393a"
      },
      "outputs": [
        {
          "name": "stdout",
          "output_type": "stream",
          "text": [
            "Accuracy:  0.8234165067178503\n",
            "Precision:  0.7021386534193432\n",
            "Recall:  0.7065855191622272\n",
            "F1:  0.7043069973713161\n"
          ]
        }
      ],
      "source": [
        "print('Accuracy: ', accuracy_score(y_test, y_predict_lsvc))\n",
        "print('Precision: ', precision_score(y_test, y_predict_lsvc, average='macro'))\n",
        "print('Recall: ', recall_score(y_test, y_predict_lsvc, average='macro'))\n",
        "print('F1: ', f1_score(y_test, y_predict_lsvc, average='macro'))"
      ]
    },
    {
      "cell_type": "markdown",
      "metadata": {
        "id": "W2GD1IAKsjRb"
      },
      "source": [
        "# **Логистическая регрессия**"
      ]
    },
    {
      "cell_type": "code",
      "execution_count": null,
      "metadata": {
        "execution": {
          "iopub.execute_input": "2024-09-08T10:42:50.940269Z",
          "iopub.status.busy": "2024-09-08T10:42:50.937482Z",
          "iopub.status.idle": "2024-09-08T10:42:51.108439Z",
          "shell.execute_reply": "2024-09-08T10:42:51.107228Z",
          "shell.execute_reply.started": "2024-09-08T10:42:50.940212Z"
        },
        "id": "ITOwxfZfskoL",
        "tags": []
      },
      "outputs": [],
      "source": [
        "from sklearn.linear_model import LogisticRegression"
      ]
    },
    {
      "cell_type": "code",
      "execution_count": null,
      "metadata": {
        "execution": {
          "iopub.execute_input": "2024-09-08T10:42:51.110118Z",
          "iopub.status.busy": "2024-09-08T10:42:51.109532Z",
          "iopub.status.idle": "2024-09-08T10:42:51.128433Z",
          "shell.execute_reply": "2024-09-08T10:42:51.127298Z",
          "shell.execute_reply.started": "2024-09-08T10:42:51.110086Z"
        },
        "id": "j2QBsOcGsktU",
        "tags": []
      },
      "outputs": [],
      "source": [
        "clf_lr = LogisticRegression(\n",
        "        # тип регуляризации\n",
        "        # l1 - сумма абсолютных значений весов\n",
        "        # l2 - сумма квадратов весов\n",
        "        penalty = 'l2', # default=’l2’\n",
        "        # коэффициент регуляризации; чем меньше, тем больше регуляризация\n",
        "        C = 0.2, # float, default=1.0\n",
        "        # способ учета дисбаланса классов\n",
        "        class_weight = 'balanced', # default=None\n",
        "        # начальное состояние генератора для воспроизводимости результата\n",
        "        random_state = 42,\n",
        "        # максимальное число итераций оптимизации\n",
        "        max_iter = 100, # int, default=100\n",
        "        # кол-во используемых ядер процессора\n",
        "        n_jobs = -1, # int, default=None\n",
        ")"
      ]
    },
    {
      "cell_type": "code",
      "execution_count": null,
      "metadata": {
        "execution": {
          "iopub.execute_input": "2024-09-08T10:42:51.131697Z",
          "iopub.status.busy": "2024-09-08T10:42:51.129708Z",
          "iopub.status.idle": "2024-09-08T10:44:03.996306Z",
          "shell.execute_reply": "2024-09-08T10:44:03.994144Z",
          "shell.execute_reply.started": "2024-09-08T10:42:51.131622Z"
        },
        "id": "pjAUAsQsskwg",
        "tags": []
      },
      "outputs": [],
      "source": [
        "clf_lr = clf_lr.fit(X_train, y_train)\n",
        "y_predict_lr = clf_lr.predict(X_test)"
      ]
    },
    {
      "cell_type": "code",
      "execution_count": null,
      "metadata": {
        "execution": {
          "iopub.execute_input": "2024-09-08T10:44:04.000254Z",
          "iopub.status.busy": "2024-09-08T10:44:03.998434Z",
          "iopub.status.idle": "2024-09-08T10:44:04.051271Z",
          "shell.execute_reply": "2024-09-08T10:44:04.049929Z",
          "shell.execute_reply.started": "2024-09-08T10:44:04.000185Z"
        },
        "id": "VCupP6Svsk1-",
        "outputId": "805aa664-f131-4d70-d569-aa1c83ca561e"
      },
      "outputs": [
        {
          "name": "stdout",
          "output_type": "stream",
          "text": [
            "Accuracy:  0.8198976327575176\n",
            "Precision:  0.7054231717337716\n",
            "Recall:  0.7397833910499809\n",
            "F1:  0.7193634108752104\n"
          ]
        }
      ],
      "source": [
        "print('Accuracy: ', accuracy_score(y_test, y_predict_lr))\n",
        "print('Precision: ', precision_score(y_test, y_predict_lr, average='macro'))\n",
        "print('Recall: ', recall_score(y_test, y_predict_lr, average='macro'))\n",
        "print('F1: ', f1_score(y_test, y_predict_lr, average='macro'))"
      ]
    },
    {
      "cell_type": "markdown",
      "metadata": {
        "id": "ydKkkCvtgGts"
      },
      "source": [
        "| Модель | Accuracy | Precision | Recall | F1 |\n",
        "|--------|----------|-----------|--------|----|\n",
        "| Наивный Байес | 0.8218170185540628 | 0.7001475531110789 | 0.7069961308940109 | 0.7034393521925737 |\n",
        "| Случайный лес | 0.8442098528470889 | 0.8172860873261675 | 0.586899995772605 | 0.6058216806076463 |\n",
        "| Деревья решений | 0.7869481765834933 | 0.6487073298218808 | 0.6614764419748449 | 0.6543837922367683 |\n",
        "| K-ближайших соседей | 0.8119001919385797 | 0.6377088914402347 | 0.556108273982324 | 0.5616118175018698 |\n",
        "| **Метод опорных векторов** | 0.8234165067178503 | 0.7021386534193432 | 0.7065855191622272 | 0.7043069973713161 |\n",
        "| **Логистическая регрессия** | 0.8198976327575176 | 0.7054231717337716 | 0.7397833910499809 | 0.7193634108752104 |"
      ]
    },
    {
      "cell_type": "markdown",
      "metadata": {
        "id": "YthQQKFAjDz2"
      },
      "source": [
        "На основе приведенных метрик можно сделать следующие выводы:\n",
        "\n",
        "1. Наивный Байес:\n",
        "   - Показывает сбалансированные результаты по всем метрикам (Accuracy, Precision, Recall, F1).\n",
        "   - Может быть хорошим выбором, если важно сочетание всех этих метрик.\n",
        "\n",
        "2. Случайный лес:\n",
        "   - Имеет наибольшую Accuracy (0.8442098528470889) среди представленных моделей.\n",
        "   - Однако демонстрирует относительно низкий Recall (0.586899995772605), что может указывать на то, что модель пропускает некоторые положительные примеры.\n",
        "\n",
        "3. Деревья решений:\n",
        "   - Показывают самые низкие метрики качества среди представленных методов.\n",
        "\n",
        "4. K-ближайших соседей:\n",
        "   - Имеет средние результаты по сравнению с другими моделями.\n",
        "   - Показывает более низкие значения Precision и Recall, что может указывать на недостаточно точные прогнозы.\n",
        "\n",
        "5. Метод опорных векторов:\n",
        "   - Демонстрирует хороший баланс между Accuracy, Precision и Recall.\n",
        "\n",
        "6. Логистическая регрессия:\n",
        "   - Показывает лучший результат по F1-мере, что может указывать на хороший баланс между Precision и Recall.\n",
        "\n",
        "Исходя из представленных метрик, **логистическая регрессия** и **метод опорных векторов** могут быть наиболее подходящими."
      ]
    }
  ],
  "metadata": {
    "accelerator": "GPU",
    "colab": {
      "gpuType": "T4",
      "provenance": []
    },
    "kernelspec": {
      "display_name": "DataSphere Kernel",
      "language": "python",
      "name": "python3"
    },
    "language_info": {
      "codemirror_mode": {
        "name": "ipython",
        "version": 3
      },
      "file_extension": ".py",
      "mimetype": "text/x-python",
      "name": "python",
      "nbconvert_exporter": "python",
      "pygments_lexer": "ipython3",
      "version": "3.10.12"
    }
  },
  "nbformat": 4,
  "nbformat_minor": 0
}